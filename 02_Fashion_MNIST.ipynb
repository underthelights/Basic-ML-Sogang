{
 "cells": [
  {
   "cell_type": "code",
   "execution_count": 1,
   "metadata": {},
   "outputs": [],
   "source": [
    "import os, random\n",
    "import keras\n",
    "from keras.datasets import fashion_mnist\n",
    "from keras.models import Sequential\n",
    "from keras.layers import Dense\n",
    "#from keras.utils import to_categorical\n",
    "from keras.utils import np_utils\n",
    "import numpy as np\n",
    "import tensorflow as tf\n",
    "os.path.expanduser = lambda path: './'"
   ]
  },
  {
   "cell_type": "code",
   "execution_count": 2,
   "metadata": {},
   "outputs": [
    {
     "name": "stdout",
     "output_type": "stream",
     "text": [
      "(60000, 28, 28)\n",
      "(60000, 784)\n",
      "60000 train samples\n",
      "10000 test samples\n"
     ]
    }
   ],
   "source": [
    "batch_size = 128\n",
    "num_classes = 10\n",
    "epochs = 60\n",
    "\n",
    "# the data, split between train and test sets\n",
    "(x_train, y_train), (x_test, y_test) = fashion_mnist.load_data()\n",
    "print(x_train.shape)\n",
    "\n",
    "x_train = x_train.reshape(60000, 784)\n",
    "print(x_train.shape)\n",
    "x_test = x_test.reshape(10000, 784)\n",
    "x_train = x_train.astype('float32')\n",
    "x_test = x_test.astype('float32')\n",
    "x_train /= 255\n",
    "x_test /= 255\n",
    "print(x_train.shape[0], 'train samples')\n",
    "print(x_test.shape[0], 'test samples')\n",
    "\n",
    "# convert class vectors to binary class matrices\n",
    "y_train = keras.utils.np_utils.to_categorical(y_train, num_classes)\n",
    "y_test = keras.utils.np_utils.to_categorical(y_test, num_classes)"
   ]
  },
  {
   "cell_type": "markdown",
   "metadata": {},
   "source": [
    "# Define Model "
   ]
  },
  {
   "cell_type": "code",
   "execution_count": 3,
   "metadata": {
    "scrolled": false
   },
   "outputs": [
    {
     "name": "stdout",
     "output_type": "stream",
     "text": [
      "Model: \"sequential\"\n",
      "_________________________________________________________________\n",
      "Layer (type)                 Output Shape              Param #   \n",
      "=================================================================\n",
      "dense (Dense)                (None, 512)               401920    \n",
      "_________________________________________________________________\n",
      "dense_1 (Dense)              (None, 512)               262656    \n",
      "_________________________________________________________________\n",
      "dense_2 (Dense)              (None, 10)                5130      \n",
      "=================================================================\n",
      "Total params: 669,706\n",
      "Trainable params: 669,706\n",
      "Non-trainable params: 0\n",
      "_________________________________________________________________\n"
     ]
    }
   ],
   "source": [
    "from keras import backend as K\n",
    "\n",
    "model = Sequential()\n",
    "model.add(Dense(512, activation='relu', input_shape=(784,)))\n",
    "model.add(Dense(512, activation='relu'))\n",
    "model.add(Dense(num_classes, activation='softmax'))\n",
    "\n",
    "model.summary()\n",
    "\n",
    "model.compile(loss='categorical_crossentropy',\n",
    "              optimizer='sgd',\n",
    "              metrics=['accuracy'])"
   ]
  },
  {
   "cell_type": "markdown",
   "metadata": {},
   "source": [
    "# Start Training"
   ]
  },
  {
   "cell_type": "code",
   "execution_count": 4,
   "metadata": {
    "scrolled": true
   },
   "outputs": [
    {
     "name": "stdout",
     "output_type": "stream",
     "text": [
      "Epoch 1/60\n",
      "375/375 [==============================] - 17s 9ms/step - loss: 1.4382 - accuracy: 0.5869 - val_loss: 0.7141 - val_accuracy: 0.7717\n",
      "Epoch 2/60\n",
      "375/375 [==============================] - 3s 8ms/step - loss: 0.6822 - accuracy: 0.7798 - val_loss: 0.5884 - val_accuracy: 0.8064\n",
      "Epoch 3/60\n",
      "375/375 [==============================] - 2s 6ms/step - loss: 0.5840 - accuracy: 0.8086 - val_loss: 0.5360 - val_accuracy: 0.8202\n",
      "Epoch 4/60\n",
      "375/375 [==============================] - 3s 8ms/step - loss: 0.5272 - accuracy: 0.8222 - val_loss: 0.5188 - val_accuracy: 0.8237\n",
      "Epoch 5/60\n",
      "375/375 [==============================] - 3s 8ms/step - loss: 0.5003 - accuracy: 0.8294 - val_loss: 0.4872 - val_accuracy: 0.8329\n",
      "Epoch 6/60\n",
      "375/375 [==============================] - 3s 8ms/step - loss: 0.4743 - accuracy: 0.8367 - val_loss: 0.4752 - val_accuracy: 0.8376\n",
      "Epoch 7/60\n",
      "375/375 [==============================] - 3s 8ms/step - loss: 0.4605 - accuracy: 0.8405 - val_loss: 0.4663 - val_accuracy: 0.8370\n",
      "Epoch 8/60\n",
      "375/375 [==============================] - 3s 8ms/step - loss: 0.4546 - accuracy: 0.8441 - val_loss: 0.4484 - val_accuracy: 0.8434\n",
      "Epoch 9/60\n",
      "375/375 [==============================] - 3s 8ms/step - loss: 0.4387 - accuracy: 0.8491 - val_loss: 0.4397 - val_accuracy: 0.8457\n",
      "Epoch 10/60\n",
      "375/375 [==============================] - 4s 10ms/step - loss: 0.4251 - accuracy: 0.8540 - val_loss: 0.4348 - val_accuracy: 0.8477\n",
      "Epoch 11/60\n",
      "375/375 [==============================] - 3s 8ms/step - loss: 0.4256 - accuracy: 0.8551 - val_loss: 0.4307 - val_accuracy: 0.8507\n",
      "Epoch 12/60\n",
      "375/375 [==============================] - 3s 7ms/step - loss: 0.4158 - accuracy: 0.8558 - val_loss: 0.4280 - val_accuracy: 0.8500\n",
      "Epoch 13/60\n",
      "375/375 [==============================] - 3s 7ms/step - loss: 0.4059 - accuracy: 0.8580 - val_loss: 0.4231 - val_accuracy: 0.8512\n",
      "Epoch 14/60\n",
      "375/375 [==============================] - 3s 8ms/step - loss: 0.4006 - accuracy: 0.8609 - val_loss: 0.4202 - val_accuracy: 0.8556\n",
      "Epoch 15/60\n",
      "375/375 [==============================] - 3s 8ms/step - loss: 0.3924 - accuracy: 0.8653 - val_loss: 0.4191 - val_accuracy: 0.8527\n",
      "Epoch 16/60\n",
      "375/375 [==============================] - 3s 9ms/step - loss: 0.3935 - accuracy: 0.8635 - val_loss: 0.4033 - val_accuracy: 0.8602\n",
      "Epoch 17/60\n",
      "375/375 [==============================] - 3s 8ms/step - loss: 0.3901 - accuracy: 0.8654 - val_loss: 0.3979 - val_accuracy: 0.8608\n",
      "Epoch 18/60\n",
      "375/375 [==============================] - 3s 8ms/step - loss: 0.3806 - accuracy: 0.8699 - val_loss: 0.4100 - val_accuracy: 0.8559\n",
      "Epoch 19/60\n",
      "375/375 [==============================] - 3s 9ms/step - loss: 0.3796 - accuracy: 0.8693 - val_loss: 0.4067 - val_accuracy: 0.8589\n",
      "Epoch 20/60\n",
      "375/375 [==============================] - 3s 9ms/step - loss: 0.3779 - accuracy: 0.8682 - val_loss: 0.3896 - val_accuracy: 0.8637\n",
      "Epoch 21/60\n",
      "375/375 [==============================] - 3s 9ms/step - loss: 0.3630 - accuracy: 0.8725 - val_loss: 0.3918 - val_accuracy: 0.8627\n",
      "Epoch 22/60\n",
      "375/375 [==============================] - 3s 8ms/step - loss: 0.3657 - accuracy: 0.8734 - val_loss: 0.3848 - val_accuracy: 0.8639\n",
      "Epoch 23/60\n",
      "375/375 [==============================] - 3s 8ms/step - loss: 0.3658 - accuracy: 0.8710 - val_loss: 0.3844 - val_accuracy: 0.8635\n",
      "Epoch 24/60\n",
      "375/375 [==============================] - 3s 8ms/step - loss: 0.3639 - accuracy: 0.8714 - val_loss: 0.3920 - val_accuracy: 0.8606\n",
      "Epoch 25/60\n",
      "375/375 [==============================] - 4s 11ms/step - loss: 0.3560 - accuracy: 0.8755 - val_loss: 0.3791 - val_accuracy: 0.8649\n",
      "Epoch 26/60\n",
      "375/375 [==============================] - 3s 8ms/step - loss: 0.3466 - accuracy: 0.8777 - val_loss: 0.3834 - val_accuracy: 0.8648\n",
      "Epoch 27/60\n",
      "375/375 [==============================] - 3s 9ms/step - loss: 0.3492 - accuracy: 0.8779 - val_loss: 0.3766 - val_accuracy: 0.8671\n",
      "Epoch 28/60\n",
      "375/375 [==============================] - 3s 9ms/step - loss: 0.3410 - accuracy: 0.8812 - val_loss: 0.3732 - val_accuracy: 0.8669\n",
      "Epoch 29/60\n",
      "375/375 [==============================] - 4s 11ms/step - loss: 0.3435 - accuracy: 0.8811 - val_loss: 0.3814 - val_accuracy: 0.8656\n",
      "Epoch 30/60\n",
      "375/375 [==============================] - 4s 10ms/step - loss: 0.3370 - accuracy: 0.8832 - val_loss: 0.3708 - val_accuracy: 0.8702\n",
      "Epoch 31/60\n",
      "375/375 [==============================] - 3s 9ms/step - loss: 0.3373 - accuracy: 0.8792 - val_loss: 0.3758 - val_accuracy: 0.8677\n",
      "Epoch 32/60\n",
      "375/375 [==============================] - 3s 9ms/step - loss: 0.3335 - accuracy: 0.8840 - val_loss: 0.3722 - val_accuracy: 0.8684\n",
      "Epoch 33/60\n",
      "375/375 [==============================] - 3s 9ms/step - loss: 0.3312 - accuracy: 0.8834 - val_loss: 0.3648 - val_accuracy: 0.8697\n",
      "Epoch 34/60\n",
      "375/375 [==============================] - 4s 9ms/step - loss: 0.3337 - accuracy: 0.8824 - val_loss: 0.3595 - val_accuracy: 0.8731\n",
      "Epoch 35/60\n",
      "375/375 [==============================] - 3s 9ms/step - loss: 0.3226 - accuracy: 0.8877 - val_loss: 0.3583 - val_accuracy: 0.8736\n",
      "Epoch 36/60\n",
      "375/375 [==============================] - 4s 9ms/step - loss: 0.3229 - accuracy: 0.8849 - val_loss: 0.3565 - val_accuracy: 0.8754\n",
      "Epoch 37/60\n",
      "375/375 [==============================] - 4s 11ms/step - loss: 0.3196 - accuracy: 0.8861 - val_loss: 0.3578 - val_accuracy: 0.8736\n",
      "Epoch 38/60\n",
      "375/375 [==============================] - 4s 9ms/step - loss: 0.3137 - accuracy: 0.8898 - val_loss: 0.3533 - val_accuracy: 0.8755\n",
      "Epoch 39/60\n",
      "375/375 [==============================] - 4s 10ms/step - loss: 0.3179 - accuracy: 0.8881 - val_loss: 0.3729 - val_accuracy: 0.8688\n",
      "Epoch 40/60\n",
      "375/375 [==============================] - 4s 10ms/step - loss: 0.3166 - accuracy: 0.8875 - val_loss: 0.3498 - val_accuracy: 0.8767\n",
      "Epoch 41/60\n",
      "375/375 [==============================] - 4s 10ms/step - loss: 0.3173 - accuracy: 0.8868 - val_loss: 0.3640 - val_accuracy: 0.8710\n",
      "Epoch 42/60\n",
      "375/375 [==============================] - 4s 11ms/step - loss: 0.3157 - accuracy: 0.8894 - val_loss: 0.3501 - val_accuracy: 0.8758\n",
      "Epoch 43/60\n",
      "375/375 [==============================] - 4s 10ms/step - loss: 0.3070 - accuracy: 0.8910 - val_loss: 0.3562 - val_accuracy: 0.8746\n",
      "Epoch 44/60\n",
      "375/375 [==============================] - 3s 9ms/step - loss: 0.3026 - accuracy: 0.8935 - val_loss: 0.3633 - val_accuracy: 0.8719\n",
      "Epoch 45/60\n",
      "375/375 [==============================] - 4s 11ms/step - loss: 0.3069 - accuracy: 0.8928 - val_loss: 0.3529 - val_accuracy: 0.8776\n",
      "Epoch 46/60\n",
      "375/375 [==============================] - 4s 11ms/step - loss: 0.2997 - accuracy: 0.8951 - val_loss: 0.3585 - val_accuracy: 0.8742\n",
      "Epoch 47/60\n",
      "375/375 [==============================] - 4s 10ms/step - loss: 0.3008 - accuracy: 0.8915 - val_loss: 0.3449 - val_accuracy: 0.8782\n",
      "Epoch 48/60\n",
      "375/375 [==============================] - 3s 9ms/step - loss: 0.2962 - accuracy: 0.8943 - val_loss: 0.3434 - val_accuracy: 0.8772\n",
      "Epoch 49/60\n",
      "375/375 [==============================] - 4s 11ms/step - loss: 0.2910 - accuracy: 0.8982 - val_loss: 0.3417 - val_accuracy: 0.8779\n",
      "Epoch 50/60\n",
      "375/375 [==============================] - 4s 11ms/step - loss: 0.2889 - accuracy: 0.8984 - val_loss: 0.3543 - val_accuracy: 0.8752\n",
      "Epoch 51/60\n",
      "375/375 [==============================] - 4s 11ms/step - loss: 0.2939 - accuracy: 0.8966 - val_loss: 0.3538 - val_accuracy: 0.8738\n",
      "Epoch 52/60\n",
      "375/375 [==============================] - 5s 12ms/step - loss: 0.2884 - accuracy: 0.8975 - val_loss: 0.3367 - val_accuracy: 0.8802\n",
      "Epoch 53/60\n",
      "375/375 [==============================] - 4s 10ms/step - loss: 0.2873 - accuracy: 0.8994 - val_loss: 0.3438 - val_accuracy: 0.8773\n",
      "Epoch 54/60\n",
      "375/375 [==============================] - 4s 10ms/step - loss: 0.2839 - accuracy: 0.8993 - val_loss: 0.3434 - val_accuracy: 0.8756\n",
      "Epoch 55/60\n",
      "375/375 [==============================] - 4s 12ms/step - loss: 0.2814 - accuracy: 0.9007 - val_loss: 0.3399 - val_accuracy: 0.8785\n",
      "Epoch 56/60\n",
      "375/375 [==============================] - 4s 10ms/step - loss: 0.2763 - accuracy: 0.9027 - val_loss: 0.3456 - val_accuracy: 0.8763\n",
      "Epoch 57/60\n",
      "375/375 [==============================] - 4s 9ms/step - loss: 0.2803 - accuracy: 0.9003 - val_loss: 0.3450 - val_accuracy: 0.8763\n",
      "Epoch 58/60\n"
     ]
    },
    {
     "name": "stdout",
     "output_type": "stream",
     "text": [
      "375/375 [==============================] - 4s 10ms/step - loss: 0.2717 - accuracy: 0.9036 - val_loss: 0.3330 - val_accuracy: 0.8827\n",
      "Epoch 59/60\n",
      "375/375 [==============================] - 4s 9ms/step - loss: 0.2802 - accuracy: 0.9004 - val_loss: 0.3488 - val_accuracy: 0.8771\n",
      "Epoch 60/60\n",
      "375/375 [==============================] - 5s 13ms/step - loss: 0.2758 - accuracy: 0.9013 - val_loss: 0.3387 - val_accuracy: 0.8792\n"
     ]
    }
   ],
   "source": [
    "history = model.fit(x_train, y_train,\n",
    "                    batch_size=batch_size,\n",
    "                    epochs=epochs,\n",
    "                    validation_split=0.2)"
   ]
  },
  {
   "cell_type": "markdown",
   "metadata": {},
   "source": [
    "# Calculate accuracy "
   ]
  },
  {
   "cell_type": "code",
   "execution_count": 5,
   "metadata": {},
   "outputs": [
    {
     "name": "stdout",
     "output_type": "stream",
     "text": [
      "313/313 [==============================] - 1s 2ms/step - loss: 0.3577 - accuracy: 0.8705\n",
      "0.8705000281333923\n",
      "Accuracy: 87.05%\n",
      "\n"
     ]
    }
   ],
   "source": [
    "metrics = model.evaluate(x_test, y_test) #returns loss and accuracy\n",
    "print(metrics[1])\n",
    "print(f'Accuracy: {metrics[1]*100:.2f}%\\n')"
   ]
  },
  {
   "cell_type": "code",
   "execution_count": null,
   "metadata": {},
   "outputs": [],
   "source": []
  }
 ],
 "metadata": {
  "kernelspec": {
   "display_name": "Python 3",
   "language": "python",
   "name": "python3"
  },
  "language_info": {
   "codemirror_mode": {
    "name": "ipython",
    "version": 3
   },
   "file_extension": ".py",
   "mimetype": "text/x-python",
   "name": "python",
   "nbconvert_exporter": "python",
   "pygments_lexer": "ipython3",
   "version": "3.9.2"
  }
 },
 "nbformat": 4,
 "nbformat_minor": 2
}
