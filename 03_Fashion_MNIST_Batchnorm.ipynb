{
 "cells": [
  {
   "cell_type": "code",
   "execution_count": 1,
   "metadata": {},
   "outputs": [
    {
     "ename": "ModuleNotFoundError",
     "evalue": "No module named 'tensorflow'",
     "output_type": "error",
     "traceback": [
      "\u001b[0;31m---------------------------------------------------------------------------\u001b[0m",
      "\u001b[0;31mModuleNotFoundError\u001b[0m                       Traceback (most recent call last)",
      "\u001b[1;32m/Users/s.kyuhwn/Desktop/ML/[ML]PRJ#03/03_Fashion_MNIST_Batchnorm.ipynb Cell 1'\u001b[0m in \u001b[0;36m<cell line: 2>\u001b[0;34m()\u001b[0m\n\u001b[1;32m      <a href='vscode-notebook-cell:/Users/s.kyuhwn/Desktop/ML/%5BML%5DPRJ%2303/03_Fashion_MNIST_Batchnorm.ipynb#ch0000000?line=0'>1</a>\u001b[0m \u001b[39mimport\u001b[39;00m \u001b[39mos\u001b[39;00m\u001b[39m,\u001b[39m \u001b[39mrandom\u001b[39;00m\n\u001b[0;32m----> <a href='vscode-notebook-cell:/Users/s.kyuhwn/Desktop/ML/%5BML%5DPRJ%2303/03_Fashion_MNIST_Batchnorm.ipynb#ch0000000?line=1'>2</a>\u001b[0m \u001b[39mimport\u001b[39;00m \u001b[39mkeras\u001b[39;00m\n\u001b[1;32m      <a href='vscode-notebook-cell:/Users/s.kyuhwn/Desktop/ML/%5BML%5DPRJ%2303/03_Fashion_MNIST_Batchnorm.ipynb#ch0000000?line=2'>3</a>\u001b[0m \u001b[39mfrom\u001b[39;00m \u001b[39mkeras\u001b[39;00m\u001b[39m.\u001b[39;00m\u001b[39mdatasets\u001b[39;00m \u001b[39mimport\u001b[39;00m fashion_mnist\n\u001b[1;32m      <a href='vscode-notebook-cell:/Users/s.kyuhwn/Desktop/ML/%5BML%5DPRJ%2303/03_Fashion_MNIST_Batchnorm.ipynb#ch0000000?line=3'>4</a>\u001b[0m \u001b[39mfrom\u001b[39;00m \u001b[39mkeras\u001b[39;00m\u001b[39m.\u001b[39;00m\u001b[39mmodels\u001b[39;00m \u001b[39mimport\u001b[39;00m Sequential\n",
      "File \u001b[0;32m/usr/local/lib/python3.9/site-packages/keras/__init__.py:21\u001b[0m, in \u001b[0;36m<module>\u001b[0;34m\u001b[0m\n\u001b[1;32m     <a href='file:///usr/local/lib/python3.9/site-packages/keras/__init__.py?line=14'>15</a>\u001b[0m \u001b[39m\"\"\"Implementation of the Keras API, the high-level API of TensorFlow.\u001b[39;00m\n\u001b[1;32m     <a href='file:///usr/local/lib/python3.9/site-packages/keras/__init__.py?line=15'>16</a>\u001b[0m \n\u001b[1;32m     <a href='file:///usr/local/lib/python3.9/site-packages/keras/__init__.py?line=16'>17</a>\u001b[0m \u001b[39mDetailed documentation and user guides are available at\u001b[39;00m\n\u001b[1;32m     <a href='file:///usr/local/lib/python3.9/site-packages/keras/__init__.py?line=17'>18</a>\u001b[0m \u001b[39m[keras.io](https://keras.io).\u001b[39;00m\n\u001b[1;32m     <a href='file:///usr/local/lib/python3.9/site-packages/keras/__init__.py?line=18'>19</a>\u001b[0m \u001b[39m\"\"\"\u001b[39;00m\n\u001b[1;32m     <a href='file:///usr/local/lib/python3.9/site-packages/keras/__init__.py?line=19'>20</a>\u001b[0m \u001b[39m# pylint: disable=unused-import\u001b[39;00m\n\u001b[0;32m---> <a href='file:///usr/local/lib/python3.9/site-packages/keras/__init__.py?line=20'>21</a>\u001b[0m \u001b[39mfrom\u001b[39;00m \u001b[39mtensorflow\u001b[39;00m\u001b[39m.\u001b[39;00m\u001b[39mpython\u001b[39;00m \u001b[39mimport\u001b[39;00m tf2\n\u001b[1;32m     <a href='file:///usr/local/lib/python3.9/site-packages/keras/__init__.py?line=21'>22</a>\u001b[0m \u001b[39mfrom\u001b[39;00m \u001b[39mkeras\u001b[39;00m \u001b[39mimport\u001b[39;00m distribute\n\u001b[1;32m     <a href='file:///usr/local/lib/python3.9/site-packages/keras/__init__.py?line=23'>24</a>\u001b[0m \u001b[39mfrom\u001b[39;00m \u001b[39mkeras\u001b[39;00m \u001b[39mimport\u001b[39;00m models\n",
      "\u001b[0;31mModuleNotFoundError\u001b[0m: No module named 'tensorflow'"
     ]
    }
   ],
   "source": [
    "import os, random\n",
    "import keras\n",
    "from keras.datasets import fashion_mnist\n",
    "from keras.models import Sequential\n",
    "from keras.layers import Dense, BatchNormalization\n",
    "from keras.utils import np_utils\n",
    "import numpy as np\n",
    "import tensorflow as tf\n",
    "os.path.expanduser = lambda path: './'"
   ]
  },
  {
   "cell_type": "code",
   "execution_count": 2,
   "metadata": {},
   "outputs": [
    {
     "name": "stdout",
     "output_type": "stream",
     "text": [
      "\u001b[33mDEPRECATION: Configuring installation scheme with distutils config files is deprecated and will no longer work in the near future. If you are using a Homebrew or Linuxbrew Python, please see discussion at https://github.com/Homebrew/homebrew-core/issues/76621\u001b[0m\u001b[33m\n",
      "\u001b[0mCollecting tensorflow\n",
      "  Downloading tensorflow-2.9.1-cp39-cp39-macosx_10_14_x86_64.whl (228.5 MB)\n",
      "\u001b[2K     \u001b[91m━━━━━\u001b[0m\u001b[90m╺\u001b[0m\u001b[90m━━━━━━━━━━━━━━━━━━━━━━━━━━━━━━━━\u001b[0m \u001b[32m32.8/228.5 MB\u001b[0m \u001b[31m197.7 kB/s\u001b[0m eta \u001b[36m0:16:30\u001b[0m"
     ]
    }
   ],
   "source": [
    "!pip install tensorflow"
   ]
  },
  {
   "cell_type": "code",
   "execution_count": 2,
   "metadata": {},
   "outputs": [
    {
     "name": "stdout",
     "output_type": "stream",
     "text": [
      "60000 train samples\n",
      "10000 test samples\n"
     ]
    }
   ],
   "source": [
    "batch_size = 128\n",
    "num_classes = 10\n",
    "epochs = 60\n",
    "\n",
    "# the data, split between train and test sets\n",
    "(x_train, y_train), (x_test, y_test) = fashion_mnist.load_data()\n",
    "\n",
    "x_train = x_train.reshape(60000, 784)\n",
    "x_test = x_test.reshape(10000, 784)\n",
    "x_train = x_train.astype('float32')\n",
    "x_test = x_test.astype('float32')\n",
    "x_train /= 255\n",
    "x_test /= 255\n",
    "print(x_train.shape[0], 'train samples')\n",
    "print(x_test.shape[0], 'test samples')\n",
    "\n",
    "# convert class vectors to binary class matrices\n",
    "y_train = keras.utils.np_utils.to_categorical(y_train, num_classes)\n",
    "y_test = keras.utils.np_utils.to_categorical(y_test, num_classes)"
   ]
  },
  {
   "cell_type": "markdown",
   "metadata": {},
   "source": [
    "# Define Model "
   ]
  },
  {
   "cell_type": "code",
   "execution_count": 3,
   "metadata": {
    "scrolled": true
   },
   "outputs": [
    {
     "name": "stdout",
     "output_type": "stream",
     "text": [
      "Model: \"sequential\"\n",
      "_________________________________________________________________\n",
      "Layer (type)                 Output Shape              Param #   \n",
      "=================================================================\n",
      "dense (Dense)                (None, 512)               401920    \n",
      "_________________________________________________________________\n",
      "batch_normalization (BatchNo (None, 512)               2048      \n",
      "_________________________________________________________________\n",
      "dense_1 (Dense)              (None, 512)               262656    \n",
      "_________________________________________________________________\n",
      "batch_normalization_1 (Batch (None, 512)               2048      \n",
      "_________________________________________________________________\n",
      "dense_2 (Dense)              (None, 10)                5130      \n",
      "=================================================================\n",
      "Total params: 673,802\n",
      "Trainable params: 671,754\n",
      "Non-trainable params: 2,048\n",
      "_________________________________________________________________\n"
     ]
    }
   ],
   "source": [
    "# for reproducibility\n",
    "import random, os\n",
    "os.environ['PYTHONHASHSEED']='0'\n",
    "random.seed(123)\n",
    "np.random.seed(123)\n",
    "#tf.set_random_seed(123)\n",
    "tf.random.set_seed(123)\n",
    "sess = tf.compat.v1.Session(config=tf.compat.v1.ConfigProto(intra_op_parallelism_threads=1,    inter_op_parallelism_threads=1,\n",
    "                                                               allow_soft_placement=True, device_count = {'CPU': 1}))\n",
    "from tensorflow.python.keras import backend as K\n",
    "K.set_session(sess)\n",
    "\n",
    "kernel_initializer='glorot_uniform'\n",
    "activation_function = 'relu'\n",
    "\n",
    "with tf.device('/cpu:0'):\n",
    "    model = Sequential()\n",
    "    model.add(Dense(512, activation='relu', input_shape=(784,)))\n",
    "    model.add(BatchNormalization())\n",
    "    model.add(Dense(512, activation='relu'))\n",
    "    model.add(BatchNormalization())\n",
    "    model.add(Dense(num_classes, activation='softmax'))\n",
    "\n",
    "    model.summary()\n",
    "\n",
    "    model.compile(loss='categorical_crossentropy',\n",
    "                  optimizer='sgd',\n",
    "                  metrics=['accuracy'])"
   ]
  },
  {
   "cell_type": "markdown",
   "metadata": {},
   "source": [
    "# Start Training"
   ]
  },
  {
   "cell_type": "code",
   "execution_count": 4,
   "metadata": {},
   "outputs": [
    {
     "name": "stdout",
     "output_type": "stream",
     "text": [
      "Epoch 1/60\n",
      "375/375 [==============================] - 16s 11ms/step - loss: 0.7511 - accuracy: 0.7441 - val_loss: 0.4801 - val_accuracy: 0.8393\n",
      "Epoch 2/60\n",
      "375/375 [==============================] - 4s 9ms/step - loss: 0.3993 - accuracy: 0.8573 - val_loss: 0.3964 - val_accuracy: 0.8575\n",
      "Epoch 3/60\n",
      "375/375 [==============================] - 4s 12ms/step - loss: 0.3441 - accuracy: 0.8788 - val_loss: 0.3657 - val_accuracy: 0.8681\n",
      "Epoch 4/60\n",
      "375/375 [==============================] - 4s 10ms/step - loss: 0.3182 - accuracy: 0.8871 - val_loss: 0.3520 - val_accuracy: 0.8717\n",
      "Epoch 5/60\n",
      "375/375 [==============================] - 4s 10ms/step - loss: 0.2891 - accuracy: 0.8959 - val_loss: 0.3532 - val_accuracy: 0.8713\n",
      "Epoch 6/60\n",
      "375/375 [==============================] - 4s 9ms/step - loss: 0.2702 - accuracy: 0.9059 - val_loss: 0.3443 - val_accuracy: 0.8752\n",
      "Epoch 7/60\n",
      "375/375 [==============================] - 4s 10ms/step - loss: 0.2591 - accuracy: 0.9086 - val_loss: 0.3345 - val_accuracy: 0.8770\n",
      "Epoch 8/60\n",
      "375/375 [==============================] - 4s 10ms/step - loss: 0.2396 - accuracy: 0.9150 - val_loss: 0.3339 - val_accuracy: 0.8809\n",
      "Epoch 9/60\n",
      "375/375 [==============================] - 4s 10ms/step - loss: 0.2315 - accuracy: 0.9181 - val_loss: 0.3374 - val_accuracy: 0.8752\n",
      "Epoch 10/60\n",
      "375/375 [==============================] - 4s 10ms/step - loss: 0.2221 - accuracy: 0.9240 - val_loss: 0.3264 - val_accuracy: 0.8821\n",
      "Epoch 11/60\n",
      "375/375 [==============================] - 5s 13ms/step - loss: 0.2047 - accuracy: 0.9290 - val_loss: 0.3349 - val_accuracy: 0.8759\n",
      "Epoch 12/60\n",
      "375/375 [==============================] - 5s 14ms/step - loss: 0.2002 - accuracy: 0.9300 - val_loss: 0.3364 - val_accuracy: 0.8806\n",
      "Epoch 13/60\n",
      "375/375 [==============================] - 5s 14ms/step - loss: 0.1895 - accuracy: 0.9345 - val_loss: 0.3222 - val_accuracy: 0.8818\n",
      "Epoch 14/60\n",
      "375/375 [==============================] - 5s 14ms/step - loss: 0.1772 - accuracy: 0.9393 - val_loss: 0.3369 - val_accuracy: 0.8788\n",
      "Epoch 15/60\n",
      "375/375 [==============================] - 5s 14ms/step - loss: 0.1753 - accuracy: 0.9403 - val_loss: 0.3254 - val_accuracy: 0.8836\n",
      "Epoch 16/60\n",
      "375/375 [==============================] - 6s 15ms/step - loss: 0.1676 - accuracy: 0.9433 - val_loss: 0.3211 - val_accuracy: 0.8851\n",
      "Epoch 17/60\n",
      "375/375 [==============================] - 5s 13ms/step - loss: 0.1578 - accuracy: 0.9461 - val_loss: 0.3321 - val_accuracy: 0.8828\n",
      "Epoch 18/60\n",
      "375/375 [==============================] - 5s 14ms/step - loss: 0.1525 - accuracy: 0.9489 - val_loss: 0.3429 - val_accuracy: 0.8808\n",
      "Epoch 19/60\n",
      "375/375 [==============================] - 6s 15ms/step - loss: 0.1421 - accuracy: 0.9530 - val_loss: 0.3263 - val_accuracy: 0.8858\n",
      "Epoch 20/60\n",
      "375/375 [==============================] - 5s 14ms/step - loss: 0.1403 - accuracy: 0.9540 - val_loss: 0.3600 - val_accuracy: 0.8783\n",
      "Epoch 21/60\n",
      "375/375 [==============================] - 5s 14ms/step - loss: 0.1313 - accuracy: 0.9576 - val_loss: 0.3260 - val_accuracy: 0.8881\n",
      "Epoch 22/60\n",
      "375/375 [==============================] - 6s 15ms/step - loss: 0.1244 - accuracy: 0.9596 - val_loss: 0.3578 - val_accuracy: 0.8786\n",
      "Epoch 23/60\n",
      "375/375 [==============================] - 5s 14ms/step - loss: 0.1213 - accuracy: 0.9604 - val_loss: 0.3305 - val_accuracy: 0.8867\n",
      "Epoch 24/60\n",
      "375/375 [==============================] - 6s 15ms/step - loss: 0.1150 - accuracy: 0.9631 - val_loss: 0.3371 - val_accuracy: 0.8853\n",
      "Epoch 25/60\n",
      "375/375 [==============================] - 6s 15ms/step - loss: 0.1127 - accuracy: 0.9646 - val_loss: 0.3387 - val_accuracy: 0.8848\n",
      "Epoch 26/60\n",
      "375/375 [==============================] - 6s 15ms/step - loss: 0.1039 - accuracy: 0.9696 - val_loss: 0.3432 - val_accuracy: 0.8879\n",
      "Epoch 27/60\n",
      "375/375 [==============================] - 6s 16ms/step - loss: 0.0985 - accuracy: 0.9705 - val_loss: 0.3597 - val_accuracy: 0.8812\n",
      "Epoch 28/60\n",
      "375/375 [==============================] - 6s 15ms/step - loss: 0.0952 - accuracy: 0.9709 - val_loss: 0.3411 - val_accuracy: 0.8856\n",
      "Epoch 29/60\n",
      "375/375 [==============================] - 6s 16ms/step - loss: 0.0918 - accuracy: 0.9726 - val_loss: 0.3597 - val_accuracy: 0.8824\n",
      "Epoch 30/60\n",
      "375/375 [==============================] - 6s 15ms/step - loss: 0.0888 - accuracy: 0.9741 - val_loss: 0.3572 - val_accuracy: 0.8834\n",
      "Epoch 31/60\n",
      "375/375 [==============================] - 6s 15ms/step - loss: 0.0845 - accuracy: 0.9756 - val_loss: 0.3519 - val_accuracy: 0.8895\n",
      "Epoch 32/60\n",
      "375/375 [==============================] - 6s 15ms/step - loss: 0.0786 - accuracy: 0.9782 - val_loss: 0.3765 - val_accuracy: 0.8814\n",
      "Epoch 33/60\n",
      "375/375 [==============================] - 6s 16ms/step - loss: 0.0777 - accuracy: 0.9780 - val_loss: 0.3544 - val_accuracy: 0.8826\n",
      "Epoch 34/60\n",
      "375/375 [==============================] - 6s 16ms/step - loss: 0.0716 - accuracy: 0.9808 - val_loss: 0.3868 - val_accuracy: 0.8823\n",
      "Epoch 35/60\n",
      "375/375 [==============================] - 6s 15ms/step - loss: 0.0719 - accuracy: 0.9791 - val_loss: 0.3678 - val_accuracy: 0.8849\n",
      "Epoch 36/60\n",
      "375/375 [==============================] - 6s 16ms/step - loss: 0.0678 - accuracy: 0.9813 - val_loss: 0.3609 - val_accuracy: 0.8896\n",
      "Epoch 37/60\n",
      "375/375 [==============================] - 6s 15ms/step - loss: 0.0641 - accuracy: 0.9831 - val_loss: 0.3701 - val_accuracy: 0.8882\n",
      "Epoch 38/60\n",
      "375/375 [==============================] - 6s 16ms/step - loss: 0.0628 - accuracy: 0.9832 - val_loss: 0.3716 - val_accuracy: 0.8865\n",
      "Epoch 39/60\n",
      "375/375 [==============================] - 6s 15ms/step - loss: 0.0577 - accuracy: 0.9856 - val_loss: 0.3739 - val_accuracy: 0.8854\n",
      "Epoch 40/60\n",
      "375/375 [==============================] - 6s 16ms/step - loss: 0.0585 - accuracy: 0.9841 - val_loss: 0.3853 - val_accuracy: 0.8866\n",
      "Epoch 41/60\n",
      "375/375 [==============================] - 6s 16ms/step - loss: 0.0540 - accuracy: 0.9862 - val_loss: 0.3940 - val_accuracy: 0.8821\n",
      "Epoch 42/60\n",
      "375/375 [==============================] - 6s 16ms/step - loss: 0.0511 - accuracy: 0.9872 - val_loss: 0.3896 - val_accuracy: 0.8834\n",
      "Epoch 43/60\n",
      "375/375 [==============================] - 6s 15ms/step - loss: 0.0505 - accuracy: 0.9867 - val_loss: 0.3851 - val_accuracy: 0.8865\n",
      "Epoch 44/60\n",
      "375/375 [==============================] - 6s 15ms/step - loss: 0.0440 - accuracy: 0.9896 - val_loss: 0.3894 - val_accuracy: 0.8862\n",
      "Epoch 45/60\n",
      "375/375 [==============================] - 6s 15ms/step - loss: 0.0457 - accuracy: 0.9890 - val_loss: 0.4027 - val_accuracy: 0.8820\n",
      "Epoch 46/60\n",
      "375/375 [==============================] - 6s 15ms/step - loss: 0.0418 - accuracy: 0.9903 - val_loss: 0.3998 - val_accuracy: 0.8847\n",
      "Epoch 47/60\n",
      "375/375 [==============================] - 6s 16ms/step - loss: 0.0411 - accuracy: 0.9909 - val_loss: 0.3948 - val_accuracy: 0.8857\n",
      "Epoch 48/60\n",
      "375/375 [==============================] - 4s 12ms/step - loss: 0.0388 - accuracy: 0.9913 - val_loss: 0.3981 - val_accuracy: 0.8864\n",
      "Epoch 49/60\n",
      "375/375 [==============================] - 4s 12ms/step - loss: 0.0373 - accuracy: 0.9925 - val_loss: 0.4001 - val_accuracy: 0.8842\n",
      "Epoch 50/60\n",
      "375/375 [==============================] - 4s 11ms/step - loss: 0.0368 - accuracy: 0.9916 - val_loss: 0.3962 - val_accuracy: 0.8863\n",
      "Epoch 51/60\n",
      "375/375 [==============================] - 5s 12ms/step - loss: 0.0363 - accuracy: 0.9919 - val_loss: 0.4096 - val_accuracy: 0.8848\n",
      "Epoch 52/60\n",
      "375/375 [==============================] - 4s 11ms/step - loss: 0.0336 - accuracy: 0.9928 - val_loss: 0.4009 - val_accuracy: 0.8881\n",
      "Epoch 53/60\n",
      "375/375 [==============================] - 4s 11ms/step - loss: 0.0320 - accuracy: 0.9933 - val_loss: 0.4155 - val_accuracy: 0.8827\n",
      "Epoch 54/60\n",
      "375/375 [==============================] - 4s 11ms/step - loss: 0.0308 - accuracy: 0.9938 - val_loss: 0.4384 - val_accuracy: 0.8827\n",
      "Epoch 55/60\n",
      "375/375 [==============================] - 4s 11ms/step - loss: 0.0292 - accuracy: 0.9948 - val_loss: 0.4173 - val_accuracy: 0.8867\n",
      "Epoch 56/60\n",
      "375/375 [==============================] - 4s 11ms/step - loss: 0.0278 - accuracy: 0.9950 - val_loss: 0.4109 - val_accuracy: 0.8888\n",
      "Epoch 57/60\n",
      "375/375 [==============================] - 4s 11ms/step - loss: 0.0271 - accuracy: 0.9949 - val_loss: 0.4140 - val_accuracy: 0.8888\n"
     ]
    },
    {
     "name": "stdout",
     "output_type": "stream",
     "text": [
      "Epoch 58/60\n",
      "375/375 [==============================] - 4s 11ms/step - loss: 0.0262 - accuracy: 0.9955 - val_loss: 0.4368 - val_accuracy: 0.8851\n",
      "Epoch 59/60\n",
      "375/375 [==============================] - 4s 11ms/step - loss: 0.0247 - accuracy: 0.9953 - val_loss: 0.4243 - val_accuracy: 0.8858\n",
      "Epoch 60/60\n",
      "375/375 [==============================] - 4s 11ms/step - loss: 0.0256 - accuracy: 0.9947 - val_loss: 0.4256 - val_accuracy: 0.8857\n"
     ]
    }
   ],
   "source": [
    "history = model.fit(x_train, y_train,\n",
    "                    batch_size=batch_size,\n",
    "                    epochs=epochs,\n",
    "                    validation_split=0.2)"
   ]
  },
  {
   "cell_type": "markdown",
   "metadata": {},
   "source": [
    "# Calculate accuracy "
   ]
  },
  {
   "cell_type": "code",
   "execution_count": 5,
   "metadata": {},
   "outputs": [
    {
     "name": "stdout",
     "output_type": "stream",
     "text": [
      "313/313 [==============================] - 1s 2ms/step - loss: 0.4524 - accuracy: 0.8825\n",
      "0.8824999928474426\n",
      "Accuracy: 88.25%\n",
      "\n"
     ]
    }
   ],
   "source": [
    "metrics = model.evaluate(x_test, y_test) #returns loss and accuracy\n",
    "print(metrics[1])\n",
    "print(f'Accuracy: {metrics[1]*100:.2f}%\\n')"
   ]
  },
  {
   "cell_type": "code",
   "execution_count": null,
   "metadata": {},
   "outputs": [],
   "source": []
  }
 ],
 "metadata": {
  "interpreter": {
   "hash": "aee8b7b246df8f9039afb4144a1f6fd8d2ca17a180786b69acc140d282b71a49"
  },
  "kernelspec": {
   "display_name": "Python 3.9.10 64-bit",
   "language": "python",
   "name": "python3"
  },
  "language_info": {
   "codemirror_mode": {
    "name": "ipython",
    "version": 3
   },
   "file_extension": ".py",
   "mimetype": "text/x-python",
   "name": "python",
   "nbconvert_exporter": "python",
   "pygments_lexer": "ipython3",
   "version": "3.9.10"
  }
 },
 "nbformat": 4,
 "nbformat_minor": 2
}
